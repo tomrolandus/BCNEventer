{
 "cells": [
  {
   "cell_type": "code",
   "execution_count": 1,
   "metadata": {},
   "outputs": [],
   "source": [
    "import pandas as pd"
   ]
  },
  {
   "cell_type": "code",
   "execution_count": 2,
   "metadata": {},
   "outputs": [],
   "source": [
    "concerts = pd.read_csv(\"concerts.csv\")"
   ]
  },
  {
   "cell_type": "code",
   "execution_count": 3,
   "metadata": {},
   "outputs": [
    {
     "data": {
      "text/html": [
       "<div>\n",
       "<style scoped>\n",
       "    .dataframe tbody tr th:only-of-type {\n",
       "        vertical-align: middle;\n",
       "    }\n",
       "\n",
       "    .dataframe tbody tr th {\n",
       "        vertical-align: top;\n",
       "    }\n",
       "\n",
       "    .dataframe thead th {\n",
       "        text-align: right;\n",
       "    }\n",
       "</style>\n",
       "<table border=\"1\" class=\"dataframe\">\n",
       "  <thead>\n",
       "    <tr style=\"text-align: right;\">\n",
       "      <th></th>\n",
       "      <th>Any</th>\n",
       "      <th>Ambit</th>\n",
       "      <th>Titularitat</th>\n",
       "      <th>Entitat</th>\n",
       "      <th>TipusEquipament</th>\n",
       "      <th>UsosFuncionals</th>\n",
       "      <th>Equipament</th>\n",
       "      <th>Districte</th>\n",
       "      <th>Latitud</th>\n",
       "      <th>Longitud</th>\n",
       "      <th>Web</th>\n",
       "      <th>Concerts</th>\n",
       "      <th>Nota</th>\n",
       "    </tr>\n",
       "  </thead>\n",
       "  <tbody>\n",
       "    <tr>\n",
       "      <th>0</th>\n",
       "      <td>2016</td>\n",
       "      <td>Música</td>\n",
       "      <td>Consorci o fundació amb presència municipal</td>\n",
       "      <td>Consorci del Gran Teatre del Liceu</td>\n",
       "      <td>Grans auditoris</td>\n",
       "      <td>Grans auditoris</td>\n",
       "      <td>Gran Teatre del Liceu</td>\n",
       "      <td>01. Ciutat Vella</td>\n",
       "      <td>41.380115</td>\n",
       "      <td>2.173329</td>\n",
       "      <td>http://www.liceubarcelona.cat/</td>\n",
       "      <td>125</td>\n",
       "      <td>NaN</td>\n",
       "    </tr>\n",
       "    <tr>\n",
       "      <th>1</th>\n",
       "      <td>2016</td>\n",
       "      <td>Música</td>\n",
       "      <td>Consorci o fundació amb presència municipal</td>\n",
       "      <td>Consorci de L'Auditori i l'Orquestra</td>\n",
       "      <td>Grans auditoris</td>\n",
       "      <td>Grans auditoris</td>\n",
       "      <td>L'Auditori</td>\n",
       "      <td>02. Eixample</td>\n",
       "      <td>41.398741</td>\n",
       "      <td>2.185142</td>\n",
       "      <td>https://www.auditori.cat/</td>\n",
       "      <td>534</td>\n",
       "      <td>NaN</td>\n",
       "    </tr>\n",
       "    <tr>\n",
       "      <th>2</th>\n",
       "      <td>2016</td>\n",
       "      <td>Música</td>\n",
       "      <td>Consorci o fundació amb presència municipal</td>\n",
       "      <td>Fundació Orfeó Català-Palau de la Música Catalana</td>\n",
       "      <td>Grans auditoris</td>\n",
       "      <td>Grans auditoris</td>\n",
       "      <td>Palau de la Música Catalana</td>\n",
       "      <td>01. Ciutat Vella</td>\n",
       "      <td>41.387332</td>\n",
       "      <td>2.175158</td>\n",
       "      <td>http://www.palaumusica.cat</td>\n",
       "      <td>566</td>\n",
       "      <td>NaN</td>\n",
       "    </tr>\n",
       "  </tbody>\n",
       "</table>\n",
       "</div>"
      ],
      "text/plain": [
       "    Any   Ambit                                  Titularitat  \\\n",
       "0  2016  Música  Consorci o fundació amb presència municipal   \n",
       "1  2016  Música  Consorci o fundació amb presència municipal   \n",
       "2  2016  Música  Consorci o fundació amb presència municipal   \n",
       "\n",
       "                                             Entitat  TipusEquipament  \\\n",
       "0                 Consorci del Gran Teatre del Liceu  Grans auditoris   \n",
       "1               Consorci de L'Auditori i l'Orquestra  Grans auditoris   \n",
       "2  Fundació Orfeó Català-Palau de la Música Catalana  Grans auditoris   \n",
       "\n",
       "    UsosFuncionals                   Equipament         Districte    Latitud  \\\n",
       "0  Grans auditoris        Gran Teatre del Liceu  01. Ciutat Vella  41.380115   \n",
       "1  Grans auditoris                   L'Auditori      02. Eixample  41.398741   \n",
       "2  Grans auditoris  Palau de la Música Catalana  01. Ciutat Vella  41.387332   \n",
       "\n",
       "   Longitud                             Web  Concerts  Nota  \n",
       "0  2.173329  http://www.liceubarcelona.cat/       125   NaN  \n",
       "1  2.185142       https://www.auditori.cat/       534   NaN  \n",
       "2  2.175158      http://www.palaumusica.cat       566   NaN  "
      ]
     },
     "execution_count": 3,
     "metadata": {},
     "output_type": "execute_result"
    }
   ],
   "source": [
    "concerts"
   ]
  },
  {
   "cell_type": "code",
   "execution_count": null,
   "metadata": {},
   "outputs": [],
   "source": []
  }
 ],
 "metadata": {
  "kernelspec": {
   "display_name": "Python 3",
   "language": "python",
   "name": "python3"
  },
  "language_info": {
   "codemirror_mode": {
    "name": "ipython",
    "version": 3
   },
   "file_extension": ".py",
   "mimetype": "text/x-python",
   "name": "python",
   "nbconvert_exporter": "python",
   "pygments_lexer": "ipython3",
   "version": "3.7.0"
  }
 },
 "nbformat": 4,
 "nbformat_minor": 2
}
